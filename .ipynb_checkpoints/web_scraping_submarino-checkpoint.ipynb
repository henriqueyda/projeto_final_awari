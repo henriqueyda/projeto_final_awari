{
 "cells": [
  {
   "cell_type": "code",
   "execution_count": 1,
   "metadata": {},
   "outputs": [],
   "source": [
    "import requests\n",
    "from bs4 import BeautifulSoup\n",
    "import time\n",
    "import random\n",
    "from collections import OrderedDict"
   ]
  },
  {
   "cell_type": "code",
   "execution_count": 2,
   "metadata": {},
   "outputs": [],
   "source": [
    "url = 'https://www.americanas.com.br/busca/geladeira'"
   ]
  },
  {
   "cell_type": "code",
   "execution_count": 3,
   "metadata": {},
   "outputs": [],
   "source": [
    "headers = {'user-agent': 'Chrome/88.0.4324.150'}\n",
    "raw = requests.get(url, headers=headers).content\n",
    "soup = BeautifulSoup(raw)"
   ]
  },
  {
   "cell_type": "code",
   "execution_count": 4,
   "metadata": {},
   "outputs": [],
   "source": [
    "produtos = soup.find_all('div', {'class':'src__Wrapper-sc-1k0ejj6-2 dGIFSc'})"
   ]
  },
  {
   "cell_type": "code",
   "execution_count": 5,
   "metadata": {},
   "outputs": [],
   "source": [
    "url_produtos = []\n",
    "for produto in produtos:\n",
    "    url_produtos.append('https://www.submarino.com.br' + produto.a['href'])"
   ]
  },
  {
   "cell_type": "code",
   "execution_count": 6,
   "metadata": {},
   "outputs": [],
   "source": [
    "from selenium import webdriver\n",
    "from selenium.webdriver.common.action_chains import ActionChains\n",
    "from selenium.webdriver.chrome.options import Options\n",
    "import time"
   ]
  },
  {
   "cell_type": "code",
   "execution_count": 7,
   "metadata": {},
   "outputs": [],
   "source": [
    "headers_list = [\n",
    "    # Firefox 77 Mac\n",
    "     {\n",
    "        \"User-Agent\": \"Mozilla/5.0 (Macintosh; Intel Mac OS X 10.15; rv:77.0) Gecko/20100101 Firefox/77.0\",\n",
    "        \"Accept\": \"text/html,application/xhtml+xml,application/xml;q=0.9,image/webp,*/*;q=0.8\",\n",
    "        \"Accept-Language\": \"en-US,en;q=0.5\",\n",
    "        \"Referer\": \"https://www.google.com/\",\n",
    "        \"DNT\": \"1\",\n",
    "        \"Connection\": \"keep-alive\",\n",
    "        \"Upgrade-Insecure-Requests\": \"1\"\n",
    "    },\n",
    "    # Firefox 77 Windows\n",
    "    {\n",
    "        \"User-Agent\": \"Mozilla/5.0 (Windows NT 10.0; Win64; x64; rv:77.0) Gecko/20100101 Firefox/77.0\",\n",
    "        \"Accept\": \"text/html,application/xhtml+xml,application/xml;q=0.9,image/webp,*/*;q=0.8\",\n",
    "        \"Accept-Language\": \"en-US,en;q=0.5\",\n",
    "        \"Accept-Encoding\": \"gzip, deflate, br\",\n",
    "        \"Referer\": \"https://www.google.com/\",\n",
    "        \"DNT\": \"1\",\n",
    "        \"Connection\": \"keep-alive\",\n",
    "        \"Upgrade-Insecure-Requests\": \"1\"\n",
    "    },\n",
    "    # Chrome 83 Mac\n",
    "    {\n",
    "        \"Connection\": \"keep-alive\",\n",
    "        \"DNT\": \"1\",\n",
    "        \"Upgrade-Insecure-Requests\": \"1\",\n",
    "        \"User-Agent\": \"Mozilla/5.0 (Macintosh; Intel Mac OS X 10_15_5) AppleWebKit/537.36 (KHTML, like Gecko) Chrome/83.0.4103.97 Safari/537.36\",\n",
    "        \"Accept\": \"text/html,application/xhtml+xml,application/xml;q=0.9,image/webp,image/apng,*/*;q=0.8,application/signed-exchange;v=b3;q=0.9\",\n",
    "        \"Sec-Fetch-Site\": \"none\",\n",
    "        \"Sec-Fetch-Mode\": \"navigate\",\n",
    "        \"Sec-Fetch-Dest\": \"document\",\n",
    "        \"Referer\": \"https://www.google.com/\",\n",
    "        \"Accept-Encoding\": \"gzip, deflate, br\",\n",
    "        \"Accept-Language\": \"en-GB,en-US;q=0.9,en;q=0.8\"\n",
    "    },\n",
    "    # Chrome 83 Windows \n",
    "    {\n",
    "        \"Connection\": \"keep-alive\",\n",
    "        \"Upgrade-Insecure-Requests\": \"1\",\n",
    "        \"User-Agent\": \"Mozilla/5.0 (Windows NT 10.0; Win64; x64) AppleWebKit/537.36 (KHTML, like Gecko) Chrome/83.0.4103.97 Safari/537.36\",\n",
    "        \"Accept\": \"text/html,application/xhtml+xml,application/xml;q=0.9,image/webp,image/apng,*/*;q=0.8,application/signed-exchange;v=b3;q=0.9\",\n",
    "        \"Sec-Fetch-Site\": \"same-origin\",\n",
    "        \"Sec-Fetch-Mode\": \"navigate\",\n",
    "        \"Sec-Fetch-User\": \"?1\",\n",
    "        \"Sec-Fetch-Dest\": \"document\",\n",
    "        \"Referer\": \"https://www.google.com/\",\n",
    "        \"Accept-Encoding\": \"gzip, deflate, br\",\n",
    "        \"Accept-Language\": \"en-US,en;q=0.9\"\n",
    "    }\n",
    "]\n",
    "\n",
    "ordered_headers_list = []\n",
    "for headers in headers_list:\n",
    "    h = OrderedDict()\n",
    "    for header,value in headers.items():\n",
    "        h[header]=value\n",
    "    ordered_headers_list.append(h)"
   ]
  },
  {
   "cell_type": "code",
   "execution_count": 8,
   "metadata": {
    "scrolled": false
   },
   "outputs": [
    {
     "name": "stdout",
     "output_type": "stream",
     "text": [
      "Message: no such element: Unable to locate element: {\"method\":\"xpath\",\"selector\":\"/html/body/div[4]/div/div/div[8]/div/section/div/section/div/button/div/span\"}\n",
      "  (Session info: chrome=88.0.4324.182)\n",
      "\n",
      "End of comments\n",
      "Product Geladeira/Refrigerador Electrolux Duplex TW42S Top Freezer com Dispenser De Água 382L Inox - 220V processed\n",
      "Message: move target out of bounds\n",
      "  (Session info: chrome=88.0.4324.182)\n",
      "\n",
      "End of comments\n",
      "Product Geladeira/Refrigerador Brastemp Frost Free BRM44 375 Litros - Evox processed\n",
      "Scrapping error. Trying again...\n"
     ]
    },
    {
     "ename": "KeyboardInterrupt",
     "evalue": "",
     "output_type": "error",
     "traceback": [
      "\u001b[1;31m---------------------------------------------------------------------------\u001b[0m",
      "\u001b[1;31mIndexError\u001b[0m                                Traceback (most recent call last)",
      "\u001b[1;32m<ipython-input-8-c87fe03368c3>\u001b[0m in \u001b[0;36m<module>\u001b[1;34m\u001b[0m\n\u001b[0;32m     14\u001b[0m             \u001b[0msoup_product\u001b[0m \u001b[1;33m=\u001b[0m \u001b[0mBeautifulSoup\u001b[0m\u001b[1;33m(\u001b[0m\u001b[0mraw_product\u001b[0m\u001b[1;33m)\u001b[0m\u001b[1;33m\u001b[0m\u001b[1;33m\u001b[0m\u001b[0m\n\u001b[1;32m---> 15\u001b[1;33m             \u001b[0mnames\u001b[0m\u001b[1;33m.\u001b[0m\u001b[0mappend\u001b[0m\u001b[1;33m(\u001b[0m\u001b[0msoup_product\u001b[0m\u001b[1;33m.\u001b[0m\u001b[0mfind_all\u001b[0m\u001b[1;33m(\u001b[0m\u001b[1;34m'h1'\u001b[0m\u001b[1;33m,\u001b[0m\u001b[1;33m{\u001b[0m\u001b[1;34m'id'\u001b[0m\u001b[1;33m:\u001b[0m\u001b[1;34m'product-name-default'\u001b[0m\u001b[1;33m}\u001b[0m\u001b[1;33m)\u001b[0m\u001b[1;33m[\u001b[0m\u001b[1;36m0\u001b[0m\u001b[1;33m]\u001b[0m\u001b[1;33m.\u001b[0m\u001b[0mtext\u001b[0m\u001b[1;33m)\u001b[0m\u001b[1;33m\u001b[0m\u001b[1;33m\u001b[0m\u001b[0m\n\u001b[0m\u001b[0;32m     16\u001b[0m             \u001b[0mimagens\u001b[0m\u001b[1;33m.\u001b[0m\u001b[0mappend\u001b[0m\u001b[1;33m(\u001b[0m\u001b[0msoup_product\u001b[0m\u001b[1;33m.\u001b[0m\u001b[0mfind_all\u001b[0m\u001b[1;33m(\u001b[0m\u001b[1;34m'picture'\u001b[0m\u001b[1;33m,\u001b[0m\u001b[1;33m{\u001b[0m\u001b[1;34m'class'\u001b[0m\u001b[1;33m:\u001b[0m\u001b[1;34m'Picture-sc-1m5klhe-2 hXieYa'\u001b[0m\u001b[1;33m}\u001b[0m\u001b[1;33m)\u001b[0m\u001b[1;33m[\u001b[0m\u001b[1;36m0\u001b[0m\u001b[1;33m]\u001b[0m\u001b[1;33m.\u001b[0m\u001b[0mimg\u001b[0m\u001b[1;33m[\u001b[0m\u001b[1;34m'src'\u001b[0m\u001b[1;33m]\u001b[0m\u001b[1;33m)\u001b[0m\u001b[1;33m\u001b[0m\u001b[1;33m\u001b[0m\u001b[0m\n",
      "\u001b[1;31mIndexError\u001b[0m: list index out of range",
      "\nDuring handling of the above exception, another exception occurred:\n",
      "\u001b[1;31mKeyboardInterrupt\u001b[0m                         Traceback (most recent call last)",
      "\u001b[1;32m<ipython-input-8-c87fe03368c3>\u001b[0m in \u001b[0;36m<module>\u001b[1;34m\u001b[0m\n\u001b[0;32m     54\u001b[0m             \u001b[0mprint\u001b[0m\u001b[1;33m(\u001b[0m\u001b[1;34m'Scrapping error. Trying again...'\u001b[0m\u001b[1;33m)\u001b[0m\u001b[1;33m\u001b[0m\u001b[1;33m\u001b[0m\u001b[0m\n\u001b[0;32m     55\u001b[0m             \u001b[0mdriver\u001b[0m\u001b[1;33m.\u001b[0m\u001b[0mquit\u001b[0m\u001b[1;33m(\u001b[0m\u001b[1;33m)\u001b[0m\u001b[1;33m\u001b[0m\u001b[1;33m\u001b[0m\u001b[0m\n\u001b[1;32m---> 56\u001b[1;33m             \u001b[0mtime\u001b[0m\u001b[1;33m.\u001b[0m\u001b[0msleep\u001b[0m\u001b[1;33m(\u001b[0m\u001b[0mrandom\u001b[0m\u001b[1;33m.\u001b[0m\u001b[0mrandint\u001b[0m\u001b[1;33m(\u001b[0m\u001b[1;36m120\u001b[0m\u001b[1;33m,\u001b[0m\u001b[1;36m240\u001b[0m\u001b[1;33m)\u001b[0m\u001b[1;33m)\u001b[0m\u001b[1;33m\u001b[0m\u001b[1;33m\u001b[0m\u001b[0m\n\u001b[0m\u001b[0;32m     57\u001b[0m             \u001b[1;32mcontinue\u001b[0m\u001b[1;33m\u001b[0m\u001b[1;33m\u001b[0m\u001b[0m\n\u001b[0;32m     58\u001b[0m         \u001b[1;32mbreak\u001b[0m\u001b[1;33m\u001b[0m\u001b[1;33m\u001b[0m\u001b[0m\n",
      "\u001b[1;31mKeyboardInterrupt\u001b[0m: "
     ]
    }
   ],
   "source": [
    "imagens = []\n",
    "names = []\n",
    "seller_description = []\n",
    "seller_url = []\n",
    "price = []\n",
    "reviews_text = []\n",
    "i = 0\n",
    "for url in url_produtos:\n",
    "    while True:\n",
    "        headers = random.choice(headers_list)\n",
    "        try:\n",
    "            raw_product = requests.get(url, headers=headers).content\n",
    "            time.sleep(2)\n",
    "            soup_product = BeautifulSoup(raw_product)\n",
    "            names.append(soup_product.find_all('h1',{'id':'product-name-default'})[0].text)\n",
    "            imagens.append(soup_product.find_all('picture',{'class':'Picture-sc-1m5klhe-2 hXieYa'})[0].img['src'])\n",
    "            price.append(soup_product.find_all('span',{'class':'price__SalesPrice-sc-1i11rkh-2 jjADsQ TextUI-sc-12tokcy-0 CIZtP'})[0].text)\n",
    "            chromeOptions = Options()\n",
    "            chromeOptions.add_argument(\"--start-maximized\")\n",
    "            driver = webdriver.Chrome(options=chromeOptions)\n",
    "            driver.implicitly_wait(5)\n",
    "            driver.get(url)\n",
    "            while True:\n",
    "                try:\n",
    "                    x_path_button = '/html/body/div[4]/div/div/div[8]/div/section/div/section/div/button/div/span'\n",
    "                    time.sleep(3)\n",
    "                    botao = driver.find_element_by_xpath(x_path_button)\n",
    "                    driver.execute_script(\"window.scrollTo(0, {});\".format(botao.location['y']-400))\n",
    "                    time.sleep(3)\n",
    "                    action=ActionChains(driver)\n",
    "                    action.move_to_element(botao).perform()\n",
    "                    time.sleep(3)\n",
    "                    botao.click()\n",
    "                except Exception as e:\n",
    "                    print(e)\n",
    "                    print('End of comments')\n",
    "                    break\n",
    "            raw = driver.page_source\n",
    "            soup = BeautifulSoup(raw)\n",
    "            reviews = soup.find_all('ul',{'class':'ListUlUI-sc-13efbnv-0 DbZws'})[0].find_all('div',{'class':'review-desc ViewUI-sc-1ijittn-6 iXIDWU'})\n",
    "            reviews_text.append([review.text for review in reviews])\n",
    "            seller_soup = soup.find_all('div',{'class':'SpacingUI-pvph4q-0 zvGsc ViewUI-sc-1ijittn-6 iXIDWU'})[0]\n",
    "            if seller_soup.a == None:\n",
    "                seller_description.append('Submarino')\n",
    "                seller_url.append('')\n",
    "            else:\n",
    "                seller_description.append(seller_soup.a.text)\n",
    "                seller_url.append(seller_soup.a['href'])\n",
    "            driver.quit()\n",
    "            print('Product {} processed'.format(names[-1]))\n",
    "            time.sleep(2)\n",
    "        except:\n",
    "            print('Scrapping error. Trying again...')\n",
    "            driver.quit()\n",
    "            time.sleep(random.randint(120,240))\n",
    "            continue\n",
    "        break"
   ]
  },
  {
   "cell_type": "code",
   "execution_count": 11,
   "metadata": {},
   "outputs": [
    {
     "data": {
      "text/plain": [
       "['', '']"
      ]
     },
     "execution_count": 11,
     "metadata": {},
     "output_type": "execute_result"
    }
   ],
   "source": [
    "seller_url"
   ]
  },
  {
   "cell_type": "code",
   "execution_count": 9,
   "metadata": {},
   "outputs": [
    {
     "data": {
      "text/plain": [
       "[['Recebi a geladeira ontem , deixei ligada a noote toda, não resfriou, nem congelador gelou .\\nImpossivel falar , contactar submarino!!!\\nLiga liga, e não atendem !!!\\nAgora liga pra comprar atendem \\nFavor entrar em contato urgente!!\\nPois vai  passar a data para troca !!!',\n",
       "  'Entrega mais rápida que já vi na vida ,comprei na quinta-feira entregaram no domingo sem falar que a geladeira é a melhor que já tive , muito silenciosa, espaçosa, gela muito rápido, eu super recomendo,  e a equipe submarino só tenho a dizer que estão de parabéns.',\n",
       "  'Não era a que eu esperava não pensei que ela era melhor muito pequena.',\n",
       "  'Gente recomendo minha primeira compra no site e eu amei chegou muito rápido',\n",
       "  'A geladeira chegou no prazo. Não tem feito nenhum barulho estranho como nos outros relatos. Contudo, não tem luz no freezer. O botão para a saída de água na porta não é automatico. Considero pequena pra quem tem criança ou família grande. Congela super bem...contudo sem espaço para latinhas.',\n",
       "  'muito boa, gela bem rápido as coisas e deixa o sorvete num ponto bom, não congela',\n",
       "  'Único detalhe é que a geladeira tem um barulho um pouco alto',\n",
       "  'Bonita geladeira, atendeu minha necessidade. Entrega rapida, por um bom preço.',\n",
       "  'Entrega super rapida e fora que ela e linda podem comprar super indico',\n",
       "  'Ótimo produto parabéns a próxima compra minha quero um desconto de vocês.',\n",
       "  'Ótimo espaço  linda demais recomendo esse produto superou minhas expectativas',\n",
       "  'Otima aquisição...estou encantada e a entrega foi em 2 dias conforme previsto...',\n",
       "  'Não faz barulho o depósito de água  e ótimo compre em agosto a mellho compra minha luz reduziu  100reais todo mês'],\n",
       " ['Produto de boa qualidade e com um espaço ideal para as necessidades de uma família de três pessoas.  O produto chegou com uma semana de antecedência!',\n",
       "  'Produto atende expectativas que se propõe. Excelente custo-benefício. Entrega do Submarino super rápido e ágil.',\n",
       "  'Produto chegou com um atraso, mas a geladeira é muito boa',\n",
       "  'apenas um detalhe. as cubas de gelo não são nada práticas. é quase impossível tirar uma sem q a outra caia no chão.',\n",
       "  'Entrega muito rápida Chegou em 5 dias e adorei muito o refrigerador.']]"
      ]
     },
     "execution_count": 9,
     "metadata": {},
     "output_type": "execute_result"
    }
   ],
   "source": [
    "reviews_text"
   ]
  },
  {
   "cell_type": "code",
   "execution_count": 63,
   "metadata": {},
   "outputs": [],
   "source": [
    "import pandas as pd\n",
    "def converter_df(names, imagens, seller_description, seller_cnpj, seller_razao_social, original_price, promotional_price):\n",
    "    data = {'name':names,\n",
    "            'image':imagens,\n",
    "            'seller_description':seller_description,\n",
    "            'seller_cnpj':seller_cnpj,\n",
    "            'seller_razao_social':seller_razao_social,\n",
    "            'original_price':original_price,\n",
    "            'promotional_price':promotional_price}\n",
    "    df = pd.DataFrame(data)\n",
    "    return df"
   ]
  },
  {
   "cell_type": "code",
   "execution_count": 73,
   "metadata": {},
   "outputs": [],
   "source": [
    "df = converter_df(names, imagens, seller_description, seller_cnpj, seller_razao_social, original_price, promotional_price)"
   ]
  },
  {
   "cell_type": "code",
   "execution_count": 56,
   "metadata": {},
   "outputs": [],
   "source": [
    "raw_product = requests.get('https://www.submarino.com.br/produto/130027877?pfm_carac=geladeira&pfm_index=6&pfm_page=search&pfm_pos=grid&pfm_type=search_page', headers=headers).content\n",
    "# raw_product = requests.get('https://www.submarino.com.br/produto/111957489/refrigerador-1-porta-electrolux-re31-214-litros-branco?pfm_carac=geladeira&pfm_index=4&pfm_page=search&pfm_pos=grid&pfm_type=search_page&voltagem=110%20volts',headers=headers).content\n",
    "soup_product = BeautifulSoup(raw_product)\n",
    "image = soup_product.find_all('picture',{'class':'Picture-sc-1m5klhe-2 hXieYa'})[0].img['src']\n",
    "name = soup_product.find_all('h1',{'id':'product-name-default'})[0].text\n",
    "# unavailable = soup_product.find_all('div', {'class':'unavailable__product'})\n",
    "seller = soup_product.find_all('div',{'class':'SpacingUI-pvph4q-0 zvGsc ViewUI-sc-1ijittn-6 iXIDWU'})\n",
    "price = soup_product.find_all('span',{'class':'price__SalesPrice-sc-1i11rkh-2 jjADsQ TextUI-sc-12tokcy-0 CIZtP'})[0].text"
   ]
  },
  {
   "cell_type": "code",
   "execution_count": 40,
   "metadata": {},
   "outputs": [
    {
     "data": {
      "text/plain": [
       "'R$ 1.499,00'"
      ]
     },
     "execution_count": 40,
     "metadata": {},
     "output_type": "execute_result"
    }
   ],
   "source": [
    "price"
   ]
  },
  {
   "cell_type": "code",
   "execution_count": 57,
   "metadata": {},
   "outputs": [
    {
     "data": {
      "text/plain": [
       "[<div class=\"SpacingUI-pvph4q-0 zvGsc ViewUI-sc-1ijittn-6 iXIDWU\"></div>]"
      ]
     },
     "execution_count": 57,
     "metadata": {},
     "output_type": "execute_result"
    }
   ],
   "source": [
    "seller"
   ]
  },
  {
   "cell_type": "code",
   "execution_count": 42,
   "metadata": {},
   "outputs": [
    {
     "data": {
      "text/plain": [
       "[<div class=\"SpacingUI-pvph4q-0 zvGsc ViewUI-sc-1ijittn-6 iXIDWU\"></div>]"
      ]
     },
     "execution_count": 42,
     "metadata": {},
     "output_type": "execute_result"
    }
   ],
   "source": [
    "seller"
   ]
  },
  {
   "cell_type": "code",
   "execution_count": 49,
   "metadata": {
    "scrolled": true
   },
   "outputs": [
    {
     "data": {
      "text/plain": [
       "<picture class=\"Picture-sc-1m5klhe-2 hXieYa\"><source media=\"(min-width: 1280px)\" srcset=\"https://images-submarino.b2w.io/produtos/01/00/item/5091/2/5091204SZ.jpg\"/><source media=\"(min-width: 1025px)\" srcset=\"https://images-submarino.b2w.io/produtos/01/00/item/5091/2/5091204_1GG.jpg\"/><source media=\"(min-width: 768px)\" srcset=\"https://images-submarino.b2w.io/produtos/01/00/item/5091/2/5091204P1.jpg\"/><img alt=\"Foto 1 - Geladeira / Refrigerador Consul 1 Porta Facilite CRB36 com Frost Free 300L - Branco\" class=\"Image-sc-1m5klhe-0 hrWOqf\" src=\"https://images-submarino.b2w.io/produtos/01/00/item/5091/2/5091204P1.jpg\"/></picture>"
      ]
     },
     "execution_count": 49,
     "metadata": {},
     "output_type": "execute_result"
    }
   ],
   "source": [
    "image[0]"
   ]
  },
  {
   "cell_type": "code",
   "execution_count": 38,
   "metadata": {},
   "outputs": [
    {
     "data": {
      "text/plain": [
       "'/lojista/45543915000181'"
      ]
     },
     "execution_count": 38,
     "metadata": {},
     "output_type": "execute_result"
    }
   ],
   "source": [
    "seller[0].a['href']"
   ]
  },
  {
   "cell_type": "code",
   "execution_count": null,
   "metadata": {},
   "outputs": [],
   "source": [
    "<div class=\"Wrapper-sc-1m5klhe-1 hnnyqp\"><picture class=\"Picture-sc-1m5klhe-2 hXieYa\"><source srcset=\"https://images-submarino.b2w.io/produtos/01/00/item/5091/2/5091204SZ.jpg\" media=\"(min-width: 1280px)\"><source srcset=\"https://images-submarino.b2w.io/produtos/01/00/item/5091/2/5091204_1GG.jpg\" media=\"(min-width: 1025px)\"><source srcset=\"https://images-submarino.b2w.io/produtos/01/00/item/5091/2/5091204P1.jpg\" media=\"(min-width: 768px)\"><img src=\"https://images-submarino.b2w.io/produtos/01/00/item/5091/2/5091204P1.jpg\" alt=\"Foto 1 - Geladeira / Refrigerador Consul 1 Porta Facilite CRB36 com Frost Free 300L - Branco\" class=\"Image-sc-1m5klhe-0 hrWOqf\"></picture></div>"
   ]
  },
  {
   "cell_type": "code",
   "execution_count": null,
   "metadata": {},
   "outputs": [],
   "source": []
  }
 ],
 "metadata": {
  "kernelspec": {
   "display_name": "Python 3",
   "language": "python",
   "name": "python3"
  },
  "language_info": {
   "codemirror_mode": {
    "name": "ipython",
    "version": 3
   },
   "file_extension": ".py",
   "mimetype": "text/x-python",
   "name": "python",
   "nbconvert_exporter": "python",
   "pygments_lexer": "ipython3",
   "version": "3.7.6"
  }
 },
 "nbformat": 4,
 "nbformat_minor": 4
}
