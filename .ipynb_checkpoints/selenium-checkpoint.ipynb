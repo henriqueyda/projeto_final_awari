{
 "cells": [
  {
   "cell_type": "code",
   "execution_count": 15,
   "metadata": {},
   "outputs": [],
   "source": [
    "from selenium import webdriver\n",
    "from selenium.webdriver.common.action_chains import ActionChains\n",
    "from selenium.webdriver.chrome.options import Options\n",
    "import time"
   ]
  },
  {
   "cell_type": "code",
   "execution_count": 32,
   "metadata": {},
   "outputs": [
    {
     "name": "stderr",
     "output_type": "stream",
     "text": [
      "C:\\Users\\henri\\Anaconda3\\lib\\site-packages\\ipykernel_launcher.py:3: DeprecationWarning: use options instead of chrome_options\n",
      "  This is separate from the ipykernel package so we can avoid doing imports until\n"
     ]
    },
    {
     "name": "stdout",
     "output_type": "stream",
     "text": [
      "End of comments\n"
     ]
    }
   ],
   "source": [
    "chromeOptions = Options()\n",
    "chromeOptions.add_argument(\"--start-maximized\")\n",
    "driver = webdriver.Chrome(chrome_options=chromeOptions)\n",
    "driver.get('https://www.submarino.com.br/produto/1808805725?pfm_carac=geladeira&pfm_page=search&pfm_pos=grid&pfm_type=search_page')\n",
    "while True:\n",
    "    try:\n",
    "        x_path_button = '/html/body/div[4]/div/div/div[7]/div/section/div/section/div/button/div/span'\n",
    "        last_height = driver.execute_script(\"return document.body.scrollHeight\")\n",
    "        driver.execute_script(\"window.scrollTo(0, document.body.scrollHeight);\")\n",
    "        time.sleep(1)\n",
    "        botao = driver.find_element_by_xpath(x_path_button)\n",
    "        action=ActionChains(driver)\n",
    "        action.move_to_element(botao).perform()   \n",
    "        botao.click()\n",
    "    except:\n",
    "        print('End of comments')\n",
    "        break"
   ]
  },
  {
   "cell_type": "code",
   "execution_count": 33,
   "metadata": {},
   "outputs": [],
   "source": [
    "from bs4 import BeautifulSoup\n",
    "\n",
    "raw = driver.page_source\n",
    "soup = BeautifulSoup(raw)"
   ]
  },
  {
   "cell_type": "code",
   "execution_count": 30,
   "metadata": {},
   "outputs": [],
   "source": [
    "reviews = soup.find_all('ul',{'class':'ListUlUI-sc-13efbnv-0 DbZws'})[0].find_all('div',{'class':'review-desc ViewUI-sc-1ijittn-6 iXIDWU'})"
   ]
  },
  {
   "cell_type": "code",
   "execution_count": 45,
   "metadata": {},
   "outputs": [
    {
     "data": {
      "text/plain": [
       "True"
      ]
     },
     "execution_count": 45,
     "metadata": {},
     "output_type": "execute_result"
    }
   ],
   "source": [
    "soup.find_all('div',{'class':'SpacingUI-pvph4q-0 zvGsc ViewUI-sc-1ijittn-6 iXIDWU'})[0].a == None"
   ]
  },
  {
   "cell_type": "code",
   "execution_count": 26,
   "metadata": {},
   "outputs": [
    {
     "data": {
      "text/plain": [
       "'Continental Center'"
      ]
     },
     "execution_count": 26,
     "metadata": {},
     "output_type": "execute_result"
    }
   ],
   "source": [
    "soup.find_all('div',{'class':'SpacingUI-pvph4q-0 zvGsc ViewUI-sc-1ijittn-6 iXIDWU'})[0].a.text"
   ]
  },
  {
   "cell_type": "code",
   "execution_count": 27,
   "metadata": {},
   "outputs": [
    {
     "data": {
      "text/plain": [
       "[<div class=\"SpacingUI-pvph4q-0 zvGsc ViewUI-sc-1ijittn-6 iXIDWU\"><span class=\"TextUI-sc-12tokcy-0 CIZtP\">Este produto é vendido e entregue por <a class=\"LinkUI-sc-1soz7d4-0 iccXEX\" href=\"/lojista/8584116000470\">Continental Center</a>. O <span class=\"TextUI-sc-12tokcy-0 fngVlx\">Submarino</span> garante a sua compra, do pedido à entrega.</span></div>]"
      ]
     },
     "execution_count": 27,
     "metadata": {},
     "output_type": "execute_result"
    }
   ],
   "source": [
    "soup.find_all('div',{'class':'SpacingUI-pvph4q-0 zvGsc ViewUI-sc-1ijittn-6 iXIDWU'})"
   ]
  },
  {
   "cell_type": "code",
   "execution_count": null,
   "metadata": {},
   "outputs": [],
   "source": [
    "<div class=\"review-desc ViewUI-sc-1ijittn-6 iXIDWU\">Com quatro anos de uso, apresentou defeitos duas vezes, primeiro: problema com a porta que trocaram na Garantia, segundo: o freezer parou de funcionar, cuidado ao escolher este produto.</div>"
   ]
  }
 ],
 "metadata": {
  "kernelspec": {
   "display_name": "Python 3",
   "language": "python",
   "name": "python3"
  },
  "language_info": {
   "codemirror_mode": {
    "name": "ipython",
    "version": 3
   },
   "file_extension": ".py",
   "mimetype": "text/x-python",
   "name": "python",
   "nbconvert_exporter": "python",
   "pygments_lexer": "ipython3",
   "version": "3.7.6"
  }
 },
 "nbformat": 4,
 "nbformat_minor": 4
}
